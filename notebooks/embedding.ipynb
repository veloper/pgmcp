{
 "cells": [
  {
   "cell_type": "code",
   "execution_count": 2,
   "id": "d2824bc1",
   "metadata": {},
   "outputs": [],
   "source": [
    "# Automatically reload modules when code changes\n",
    "%load_ext autoreload\n",
    "%autoreload 2"
   ]
  },
  {
   "cell_type": "code",
   "execution_count": 3,
   "id": "1caac9b6",
   "metadata": {},
   "outputs": [],
   "source": [
    "from pgmcp.settings import get_settings\n",
    "\n",
    "SETTINGS = get_settings()\n",
    "from rich.table import Table\n",
    "from rich.console import Console\n",
    "from rich.theme import Theme\n",
    "\n",
    "\n",
    "console = Console(highlight=False, force_jupyter=True)"
   ]
  },
  {
   "cell_type": "code",
   "execution_count": 4,
   "id": "6633f118",
   "metadata": {},
   "outputs": [
    {
     "name": "stdout",
     "output_type": "stream",
     "text": [
      "CallToolResult(content=[TextContent(type='text', text='{\"metadata\":{\"page\":1,\"per_page\":10,\"count\":0},\"record\":{\"name\":\"docs.pydantic.dev:  latest \",\"library_id\":1,\"id\":19,\"created_at\":\"2025-08-12T15:13:47.762001Z\",\"updated_at\":\"2025-08-12T15:13:47.762001Z\",\"documents_count\":111,\"chunks_count\":3223,\"chunks_token_total\":965310}}', annotations=None, meta=None)], structured_content={'metadata': {'page': 1, 'per_page': 10, 'count': 0}, 'record': {'name': 'docs.pydantic.dev:  latest ', 'library_id': 1, 'id': 19, 'created_at': '2025-08-12T15:13:47.762001Z', 'updated_at': '2025-08-12T15:13:47.762001Z', 'documents_count': 111, 'chunks_count': 3223, 'chunks_token_total': 965310}}, data={'metadata': {'page': 1, 'per_page': 10, 'count': 0}, 'record': {'name': 'docs.pydantic.dev:  latest ', 'library_id': 1, 'id': 19, 'created_at': '2025-08-12T15:13:47.762001Z', 'updated_at': '2025-08-12T15:13:47.762001Z', 'documents_count': 111, 'chunks_count': 3223, 'chunks_token_total': 965310}}, is_error=False)\n"
     ]
    }
   ],
   "source": [
    "# Mcp Server Imports \n",
    "from pgmcp.server_crawl import mcp as mcp_crawl\n",
    "from pgmcp.server_kb import mcp as mcp_kb\n",
    "\n",
    "\n",
    "# Ingest Crawl 22 = openwebui.io\n",
    "# Ingest Crawl 21 = sqlalchemy docs\n",
    "from fastmcp import Client\n",
    "\n",
    "async with Client(mcp_kb) as client:\n",
    "    response = await client.call_tool(\"ingest_crawl_job\", {\"crawl_job_id\": 41})\n",
    "    \n",
    "    print(response)"
   ]
  },
  {
   "cell_type": "code",
   "execution_count": 5,
   "id": "6397e579",
   "metadata": {},
   "outputs": [
    {
     "data": {
      "text/html": [
       "<pre style=\"white-space:pre;overflow-x:auto;line-height:normal;font-family:Menlo,'DejaVu Sans Mono',consolas,'Courier New',monospace\">┏━━━━━━━┳━━━━━━━━━━━━━━━━━━━━━━┳━━━━━━━━━━━━━━┳━━━━━━━━━━━━━━━━┓\n",
       "┃<span style=\"color: #800080; text-decoration-color: #800080; font-weight: bold\"> ID    </span>┃<span style=\"color: #800080; text-decoration-color: #800080; font-weight: bold\"> Title                </span>┃<span style=\"color: #800080; text-decoration-color: #800080; font-weight: bold\"> Content-Type </span>┃<span style=\"color: #800080; text-decoration-color: #800080; font-weight: bold\"> Content-Length </span>┃\n",
       "┡━━━━━━━╇━━━━━━━━━━━━━━━━━━━━━━╇━━━━━━━━━━━━━━╇━━━━━━━━━━━━━━━━┩\n",
       "│ 10581 │ Welcome to Pydantic  │ text/html    │          84232 │\n",
       "│ 10582 │ Welcome to Pydantic  │ text/html    │          84232 │\n",
       "│ 10583 │ Models               │ text/html    │         260481 │\n",
       "│ 10584 │ BaseModel            │ text/html    │         575551 │\n",
       "│ 10585 │ Architecture         │ text/html    │          82771 │\n",
       "│ 10586 │ Validating File Data │ text/html    │          83638 │\n",
       "│ 10587 │ Error Handling       │ text/html    │          97370 │\n",
       "│ 10588 │ Pydantic Logfire     │ text/html    │          67498 │\n",
       "│ 10589 │ Pydantic People      │ text/html    │          96532 │\n",
       "│ 10590 │ Why use Pydantic     │ text/html    │         131638 │\n",
       "│ ...   │ ...                  │ ...          │            ... │\n",
       "└───────┴──────────────────────┴──────────────┴────────────────┘\n",
       "</pre>\n"
      ],
      "text/plain": [
       "┏━━━━━━━┳━━━━━━━━━━━━━━━━━━━━━━┳━━━━━━━━━━━━━━┳━━━━━━━━━━━━━━━━┓\n",
       "┃\u001b[1;35m \u001b[0m\u001b[1;35mID   \u001b[0m\u001b[1;35m \u001b[0m┃\u001b[1;35m \u001b[0m\u001b[1;35mTitle               \u001b[0m\u001b[1;35m \u001b[0m┃\u001b[1;35m \u001b[0m\u001b[1;35mContent-Type\u001b[0m\u001b[1;35m \u001b[0m┃\u001b[1;35m \u001b[0m\u001b[1;35mContent-Length\u001b[0m\u001b[1;35m \u001b[0m┃\n",
       "┡━━━━━━━╇━━━━━━━━━━━━━━━━━━━━━━╇━━━━━━━━━━━━━━╇━━━━━━━━━━━━━━━━┩\n",
       "│ 10581 │ Welcome to Pydantic  │ text/html    │          84232 │\n",
       "│ 10582 │ Welcome to Pydantic  │ text/html    │          84232 │\n",
       "│ 10583 │ Models               │ text/html    │         260481 │\n",
       "│ 10584 │ BaseModel            │ text/html    │         575551 │\n",
       "│ 10585 │ Architecture         │ text/html    │          82771 │\n",
       "│ 10586 │ Validating File Data │ text/html    │          83638 │\n",
       "│ 10587 │ Error Handling       │ text/html    │          97370 │\n",
       "│ 10588 │ Pydantic Logfire     │ text/html    │          67498 │\n",
       "│ 10589 │ Pydantic People      │ text/html    │          96532 │\n",
       "│ 10590 │ Why use Pydantic     │ text/html    │         131638 │\n",
       "│ ...   │ ...                  │ ...          │            ... │\n",
       "└───────┴──────────────────────┴──────────────┴────────────────┘\n"
      ]
     },
     "metadata": {},
     "output_type": "display_data"
    }
   ],
   "source": [
    "from sqlalchemy.future import select\n",
    "from pgmcp.models import Corpus, Document, Chunk \n",
    "\n",
    "table = Table(show_header=True, header_style=\"bold magenta\")\n",
    "table.add_column(\"ID\")\n",
    "table.add_column(\"Title\")\n",
    "table.add_column(\"Content-Type\")\n",
    "table.add_column(\"Content-Length\", justify=\"right\")\n",
    "\n",
    "            \n",
    "async with Corpus.async_context() as session:\n",
    "    # 4 = sqlalchemy docs\n",
    "    # 5 = openwebui docs\n",
    "    if CORPUS := await Corpus.find(19): \n",
    "        await CORPUS.ensure_loaded(\"documents\")\n",
    "        DOCUMENTS = list(CORPUS.documents)\n",
    "\n",
    "        for i, doc in enumerate(DOCUMENTS):\n",
    "            if i >= 10:\n",
    "                table.add_row(\"...\", \"...\", \"...\", \"...\")\n",
    "                break\n",
    "            table.add_row(\n",
    "                str(doc.id), \n",
    "                doc.title, \n",
    "                doc.content_type, \n",
    "                str(len(str(doc.content)))\n",
    "            )\n",
    "            \n",
    "    display(table)\n",
    "    \n",
    "    DOCUMENT = DOCUMENTS[0]\n",
    "    DOCUMENT = await DOCUMENT.ensure_loaded(\"chunks\")"
   ]
  },
  {
   "cell_type": "code",
   "execution_count": 6,
   "id": "b53a1b02",
   "metadata": {},
   "outputs": [],
   "source": [
    "# get all chunks from corpus\n",
    "import tiktoken\n",
    "encoder = tiktoken.get_encoding(\"cl100k_base\")\n",
    "\n",
    "async with Chunk.async_context() as session:\n",
    "    chunks_qb = Chunk.query().joins(Chunk.document, Document.corpus).where(Corpus.id == 4)\n",
    "    \n",
    "    async for chunk in chunks_qb.find_each():\n",
    "        embeddable_content = chunk.to_embeddable_input()\n",
    "        if len(encoder.encode(embeddable_content)) > 8192:\n",
    "            print(f\"Chunk {chunk.id} is too long to embed: {len(encoder.encode(embeddable_content))} tokens\")\n",
    "            "
   ]
  },
  {
   "cell_type": "code",
   "execution_count": 10,
   "id": "caae4c6d",
   "metadata": {},
   "outputs": [],
   "source": [
    "# await DOCUMENT.update_embeddings()"
   ]
  },
  {
   "cell_type": "code",
   "execution_count": 8,
   "id": "4a86a600",
   "metadata": {},
   "outputs": [
    {
     "data": {
      "text/html": [
       "<pre style=\"white-space:pre;overflow-x:auto;line-height:normal;font-family:Menlo,'DejaVu Sans Mono',consolas,'Courier New',monospace\">┏━━━━━━━━━━┳━━━━━━━━━━━━━━━┳━━━━━━━━━━━━━━━━━━━━━━━━┳━━━━━━━━━━━━━━━━━━━━━━┓\n",
       "┃<span style=\"color: #800080; text-decoration-color: #800080; font-weight: bold\"> Chunk ID </span>┃<span style=\"color: #800080; text-decoration-color: #800080; font-weight: bold\"> chunk_content </span>┃<span style=\"color: #800080; text-decoration-color: #800080; font-weight: bold\"> token_count (tiktoken) </span>┃<span style=\"color: #800080; text-decoration-color: #800080; font-weight: bold\"> token_count (column) </span>┃\n",
       "┡━━━━━━━━━━╇━━━━━━━━━━━━━━━╇━━━━━━━━━━━━━━━━━━━━━━━━╇━━━━━━━━━━━━━━━━━━━━━━┩\n",
       "└──────────┴───────────────┴────────────────────────┴──────────────────────┘\n",
       "</pre>\n"
      ],
      "text/plain": [
       "┏━━━━━━━━━━┳━━━━━━━━━━━━━━━┳━━━━━━━━━━━━━━━━━━━━━━━━┳━━━━━━━━━━━━━━━━━━━━━━┓\n",
       "┃\u001b[1;35m \u001b[0m\u001b[1;35mChunk ID\u001b[0m\u001b[1;35m \u001b[0m┃\u001b[1;35m \u001b[0m\u001b[1;35mchunk_content\u001b[0m\u001b[1;35m \u001b[0m┃\u001b[1;35m \u001b[0m\u001b[1;35mtoken_count (tiktoken)\u001b[0m\u001b[1;35m \u001b[0m┃\u001b[1;35m \u001b[0m\u001b[1;35mtoken_count (column)\u001b[0m\u001b[1;35m \u001b[0m┃\n",
       "┡━━━━━━━━━━╇━━━━━━━━━━━━━━━╇━━━━━━━━━━━━━━━━━━━━━━━━╇━━━━━━━━━━━━━━━━━━━━━━┩\n",
       "└──────────┴───────────────┴────────────────────────┴──────────────────────┘\n"
      ]
     },
     "metadata": {},
     "output_type": "display_data"
    }
   ],
   "source": [
    "import json\n",
    "from rich.table import Table\n",
    "\n",
    "table = Table(show_header=True, header_style=\"bold magenta\")\n",
    "table.add_column(\"Chunk ID\")\n",
    "# table.add_column(\"Content\")\n",
    "# table.add_column(\"Metadata\")\n",
    "table.add_column(\"chunk_content\")\n",
    "table.add_column(\"token_count (tiktoken)\", justify=\"right\")\n",
    "table.add_column(\"token_count (column)\", justify=\"right\")\n",
    "\n",
    "\n",
    "\n",
    "for i, chunk in enumerate(DOCUMENT.chunks):\n",
    "    if i >= 10:\n",
    "        break\n",
    "\n",
    "    token_count_tiktoken = len(encoder.encode(chunk.to_embeddable_input()))\n",
    "    token_count_column = chunk.token_count\n",
    "\n",
    "    if token_count_tiktoken != token_count_column:\n",
    "        table.add_row(str(i), chunk.to_embeddable_input(), str(token_count_tiktoken), str(token_count_column))\n",
    "\n",
    "\n",
    "console.print(table)"
   ]
  },
  {
   "cell_type": "code",
   "execution_count": null,
   "id": "3a7bd596",
   "metadata": {},
   "outputs": [],
   "source": []
  },
  {
   "cell_type": "code",
   "execution_count": null,
   "id": "1d1db4d4",
   "metadata": {},
   "outputs": [],
   "source": [
    "from pgmcp.models import Corpus\n",
    "import asyncio\n",
    "\n",
    "async def embed_corpus(corpus_id=5):\n",
    "    corpus = await Corpus.find(corpus_id)\n",
    "    if corpus:\n",
    "        print(f\"Embedding all chunks for corpus: {corpus.name} (ID: {corpus_id})\")\n",
    "        await corpus.update_embeddings()\n",
    "        print(\"Embedding complete.\")\n",
    "    else:\n",
    "        print(f\"Corpus with ID {corpus_id} not found.\")\n",
    "\n",
    "await embed_corpus(5)"
   ]
  }
 ],
 "metadata": {
  "kernelspec": {
   "display_name": ".venv",
   "language": "python",
   "name": "python3"
  },
  "language_info": {
   "codemirror_mode": {
    "name": "ipython",
    "version": 3
   },
   "file_extension": ".py",
   "mimetype": "text/x-python",
   "name": "python",
   "nbconvert_exporter": "python",
   "pygments_lexer": "ipython3",
   "version": "3.11.10"
  }
 },
 "nbformat": 4,
 "nbformat_minor": 5
}
